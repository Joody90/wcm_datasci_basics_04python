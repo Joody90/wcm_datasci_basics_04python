{
 "cells": [
  {
   "cell_type": "markdown",
   "metadata": {},
   "source": [
    "# Overview of Jupyter notebooks\n",
    "---\n",
    "## What is a Jupyter notebook?\n",
    "From [Project Jupyter's](https://jupyter.org/) website:\n",
    ">The Jupyter Notebook is an open-source web application that allows you to create and share documents that contain live code, equations, visualizations and narrative text. Uses include: data cleaning and transformation, numerical simulation, statistical modeling, data visualization, machine learning, and much more.\n",
    "\n",
    "This means you don't necessarily need to save Python files (.py) and run them through the command line!\n",
    "\n",
    "The name \"Jupyter\" is a combination of Julia, Python, and R. While Python is the most common language used in Jupyter notebooks, the Jupyter kernels has evolved into supporting [many different languages](https://github.com/jupyter/jupyter/wiki/Jupyter-kernels).\n",
    "\n",
    "## Notebook structure\n",
    "\n",
    "### Cells\n",
    "Cells are building blocks of a notebook, they can be created, deleted, moved around, and executed. There are several different types of cells in Jupyter notebooks, but the primary ones are code and markdown cells.\n",
    "\n",
    "### Markdown cells\n",
    "\n",
    "Markdown cells contain [Markdown], which is a lightweight markup language that allows us to style plain text by rendering it with headings, lists, etc. \n",
    "\n",
    "The cell you're reading rightn ow is a Markdown cell, if you are reading this as a rendered notebook on the web, it'll just look like any other webpage, and you won't be able to interact with the cel contents. But if you're running thie notebook on a local Jupyter environment, you can edit the cell directly. All you have to do is double click on the cell, or click to highlight it and press the Enter/Return key. then you can edit the Markdown as you please, and once you run the cell (more on that in a moment), your changes will be rendered.\n",
    "\n",
    "### Code cells\n",
    "Code cells contain code, and the code written can vary depending on what kernel you're running. Here's what a Python code cell looks like: "
   ]
  },
  {
   "cell_type": "code",
   "execution_count": 1,
   "metadata": {},
   "outputs": [
    {
     "name": "stdout",
     "output_type": "stream",
     "text": [
      "Hello world!\n"
     ]
    }
   ],
   "source": [
    "def welcome():\n",
    "    print(\"Hello world!\")\n",
    "    \n",
    "welcome()"
   ]
  },
  {
   "cell_type": "markdown",
   "metadata": {},
   "source": [
    "#### In-line rendering\n",
    "When code cells generate images, Jupyter allows you to render those images in-line (as long as the kernel you're using supports it). For example, here's some Python code that generates a histogram. Note the special `%matplotlib inline` command at the top; this is an instruction to Jupyter indicating that plots should be rendered inline (i.e., just below the cell), rather than handing the generated plot off to the operating system."
   ]
  },
  {
   "cell_type": "code",
   "execution_count": 5,
   "metadata": {},
   "outputs": [
    {
     "data": {
      "image/png": "[encoded data removed]",
      "text/plain": [
       "<Figure size 432x288 with 1 Axes>"
      ]
     },
     "metadata": {
      "needs_background": "light"
     },
     "output_type": "display_data"
    }
   ],
   "source": [
    "%matplotlib inline # only needs to be called once per notebook\n",
    "\n",
    "import numpy as np\n",
    "import matplotlib.pyplot as plt\n",
    "\n",
    "data = np.random.normal(5, 2, size=10000)\n",
    "plt.hist(data, bins=100)\n",
    "plt.xlim(-10, 20);"
   ]
  },
  {
   "cell_type": "markdown",
   "metadata": {},
   "source": [
    "#### Executing code cells\n",
    "Just as with Markdown cells, you can double-click on a code cell to edit it. When you run the cell, the code in the cell gets executed, just as it would if you were working in a command-line environment and pasted in the code from the cell. You can try running the code cell above: click on it to highlight it, then click the \"Run\" button in the toolbar at the top of the notebook, or select \"Run Cells\" from the Cell menu, or use the keyboard shortcut Ctrl-Return. You should see some output show up immediately below the cell."
   ]
  },
  {
   "cell_type": "markdown",
   "metadata": {},
   "source": [
    "## Interacting with notebooks\n",
    "\n",
    "### Modes\n",
    "When working in a Jupyter notebook, there are two modes of interaction: *edit mode* and *command mode*.\n",
    "\n",
    "#### Edit mode\n",
    "When we're in edit mode, we're interacting with, or editing, the contents of an individual cell. We can tell we're in edit mode if the cell border is green. To enter edit mode, we either click on some text or code in a cell that's already in edit mode, or highlight a cell that isn't in edit mode (e.g., a markdown cell that's been rendered) and press Enter. To exit edit mode, press the Esc key, click outside of any cell (e.g., on the edges of the notebook), or run the cell.\n",
    "\n",
    "#### Command mode\n",
    "In command mode, we can perform operations on one or more cells, but we can't alter the contents of any individual cell. We use command mode to create or delete cells; move them around; cut, copy, and paste them; execute them; and so on. To enter command mode, press the Esc key.\n",
    "\n",
    "### Navigating notebooks\n",
    "Notebooks are fairly simple to use, and it doesn't take long to get the hang of it. The best way to understand how mouse navigation works is to just click around on various things and see what happens. Many of the commands in the menus are also fairly self-explanatory. The toolbar contains icons for some of the most common operations—e.g., saving the current notebook, creating a new notebook, moving cells up or down, and so on. You can hover over any of the icons for a few seconds to bring up tooltips that tell you what the button does.\n",
    "\n",
    "#### Keyboard navigation\n",
    "Once you get comfortable in the Jupyter environment, you'll probably find yourself relying heavily on keyboard shortcuts. Jupyter provides a lot of shortcuts out of the box, and can be further customized via third-party plugins. The main thing to be aware of is that the effects of different keys depend on what mode you're in: edit or command.\n",
    "\n",
    "The easiest way to learn the shortcuts is to consult the help. You can either select \"Keyboard Shortcuts\" from the help, or, if you're in command mode, press the \"h\" key to bring up the same display.\n",
    "\n",
    "## Extending Jupyter\n",
    "\n",
    "\n",
    "While the Jupyter notebook isn't (at least right now) really much of an [IDE](https://en.wikipedia.org/wiki/Integrated_development_environment), it does provide basic editing functionality like syntax highlighting, various keyboard shortcuts, etc. Importantly, many aspects of the Jupyter notebook environment can be extended and customized, and a large number of third-party plug-ins and extensions have been developed. We won't cover extensions in any detail here, but you can read the [official docs](https://jupyter-notebook.readthedocs.io/en/stable/extending/) for more information on how to extend Jupyter, or browse [this list](https://jupyter-contrib-nbextensions.readthedocs.io/en/latest/) or [this other one](https://github.com/mauhai/awesome-jupyterlab) of available extensions.\n",
    "\n",
    "To illustrate the power that extensions give us, let's look at just one particular extension: [ipywidgets](http://ipywidgets.readthedocs.io/en/latest/index.html), which enable us to turn static plots into interactive ones by binding interactive elements to function parameters in just a few lines of code. For example:"
   ]
  },
  {
   "cell_type": "code",
   "execution_count": 6,
   "metadata": {},
   "outputs": [
    {
     "data": {
      "application/vnd.jupyter.widget-view+json": {
       "model_id": "99ba00c891464f62a4e389d6e1903c77",
       "version_major": 2,
       "version_minor": 0
      },
      "text/plain": [
       "interactive(children=(IntSlider(value=5, description='mu', max=15, min=-5), IntSlider(value=3, description='sd…"
      ]
     },
     "metadata": {},
     "output_type": "display_data"
    }
   ],
   "source": [
    "# Interactive widgets!\n",
    "from ipywidgets import interact\n",
    "import ipywidgets as widgets\n",
    "\n",
    "# Define our plotting function\n",
    "def plot_normal_hist(mu, sd):\n",
    "    samp = np.random.normal(mu, sd, size=10000)\n",
    "    plt.hist(samp, bins=100)\n",
    "    plt.xlim(-20, 20)\n",
    "\n",
    "# Hook up our plotting function to the interactive widget\n",
    "interact(plot_normal_hist, mu=5, sd=widgets.IntSlider(min=1, max=8, step=1, value=3));"
   ]
  },
  {
   "cell_type": "markdown",
   "metadata": {},
   "source": [
    "## Other features\n",
    "Jupyter notebooks have too many useful features to cover in a short introduction, so let's just mention a few."
   ]
  },
  {
   "cell_type": "markdown",
   "metadata": {
    "slideshow": {
     "slide_type": "subslide"
    }
   },
   "source": [
    "### Built-in LaTeX support\n",
    "We can drop LaTeX expressions directly into Markdown cells and they'll be rendered in-line seamlessly:\n",
    "\n",
    "$$ F(k) = \\int_{-\\infty}^{\\infty} f(x) e^{2\\pi i k} dx $$"
   ]
  },
  {
   "cell_type": "markdown",
   "metadata": {
    "slideshow": {
     "slide_type": "subslide"
    }
   },
   "source": [
    "### Magic commands\n",
    "Jupyter notebooks support a number of [\"magic\" commands](http://ipython.readthedocs.io/en/stable/interactive/magics.html) that can make our life easier. We already saw one magic command above (to direct Jupyter to render plots in-line). Other magics provide functionality to help us profile or debug code; run cells written in other languages; dynamically load extensions; reset the workspace; and accomplish many other tasks.\n",
    "\n",
    "### Easy exports\n",
    "Jupyter notebooks can be easily exported to a number of other formats (HTML, PDF, .py, etc.) via the \"Download as\" option under the File Menu.\n",
    "\n",
    "### Execute system commands\n",
    "You can run system commands directly from a notebook by prefixing any line in a code cell with '!'. For example, executing the following command will list the `ipynb` files in the current directory:"
   ]
  },
  {
   "cell_type": "code",
   "execution_count": 7,
   "metadata": {},
   "outputs": [
    {
     "name": "stdout",
     "output_type": "stream",
     "text": [
      "total 584\n",
      "-rw-r--r--  1 xxie  staff   21070 Dec 12 10:50 01-jupyter-notebooks.ipynb\n",
      "-rw-r--r--  1 xxie  staff  260687 Dec  9 16:27 02-python-basics.ipynb\n",
      "-rw-r--r--  1 xxie  staff    7597 Dec  9 16:32 README.md\n",
      "drwxr-xr-x  4 xxie  staff     128 Dec  7 11:23 \u001b[1m\u001b[36mdata\u001b[m\u001b[m\n",
      "-rw-r--r--  1 xxie  staff     259 Dec  8 14:39 environment.yml\n",
      "drwxr-xr-x  3 xxie  staff      96 Dec  7 11:23 \u001b[1m\u001b[36mimages\u001b[m\u001b[m\n"
     ]
    }
   ],
   "source": [
    "!ls -l"
   ]
  },
  {
   "cell_type": "markdown",
   "metadata": {},
   "source": [
    "### Custom themes\n",
    "One of the most popular extensions for Jupyter is [jupyterthemes](https://github.com/dunovank/jupyter-themes), which allows you to easily apply new themes to your notebooks, potentially changing almost every aspect of their appearance. The extension also provides command-line hooks that make it easier to customize specific aspects (e.g., increasing font size in cell mode)."
   ]
  },
  {
   "cell_type": "markdown",
   "metadata": {},
   "source": [
    "## JupyterLab\n",
    "Jupyter Notebook is an environment for writing and editing interactive notebooks. But its emphasis is very heavily on crafting individual notebooks. There's very ittle support for other important tasks users regularly engage in—e.g., managing multiple notebooks; organizing files; inspecting the contents of variables; and so on. Put simply, outside of the actual document construction process, Jupyter Notebook leaves much to be desired.\n",
    "\n",
    "Fortunately, the Jupyter Project recently launched [JupyterLab](https://jupyterlab.readthedocs.io/en/stable/), which provides a much more full-featured user interface. Eventually, JupyterLab will completely replace Jupyter Notebook. For the moment, you can still use the latter in a standalone manner, but there's not really much reason to, seeing as you get all of the benefits of Jupyter Notebook in JupyterLab, plus many more."
   ]
  },
  {
   "cell_type": "markdown",
   "metadata": {
    "slideshow": {
     "slide_type": "subslide"
    }
   },
   "source": [
    "## When to use Jupyter and when not to use Jupyter\n",
    "The ability to seamlessly combine text, code, and figures in one document—potentially creating completely reproducible, shareable workflows—has led to widespread adoption of Jupyter notebooks (and other similar technologies) in recent years. Some particular common use cases:\n",
    "* Presentation of information in a form that allows readers to easily interact and experiment with contents. Notebooks are exceptional teaching tools, as students can directly interact with code and immediately observe the results.\n",
    "* Consolidated presentation of research results/reports, where code and figures can be presented in-line—essentially providing a better version of the scientific research paper.\n",
    "* Rapid prototyping of plotting-intensive analysis workflows.\n",
    "\n",
    "Naturally, Jupyter notebooks aren't the right tool for everything. Their massive popularity has spawned something of a backlash in recent years (see, e.g., [these slides](https://docs.google.com/presentation/d/1n2RlMdmv1p25Xy5thJUhkKGvjtV-dkAIsUXP-AL4ffI/edit?usp=sharing) or this [post](https://towardsdatascience.com/5-reasons-why-jupyter-notebooks-suck-4dc201e27086)). Many of these criticisms are accurate, though they're probably better understood as criticisms of how people sometimes *use* notebooks, than about intrinsic limitations of the technology itself. In particular, it's important to note that notebooks are no substitute for a good integrated development environment (IDE), and overreliance on them can promote poor development practices and introduce serious version control difficulties. In general, we don't recommend using notebooks for serious software development. But for the use cases described above, they can be invaluable."
   ]
  },
  {
   "cell_type": "markdown",
   "metadata": {
    "slideshow": {
     "slide_type": "subslide"
    }
   },
   "source": [
    "## Getting help\n",
    "This tutorial only introduces some of the basics, but there are plenty of sources for additional information and help. Try exploring the options under the \"Help\" menu.\n",
    "\n",
    "As mentioned earlier, if you're in command mode, you can press the 'h' key to bring up a list of keyboard shorcuts.\n",
    "\n",
    "If you're writing Python code, pressing shift-tab inside the parentheses of Python function calls will show you the function signature/arguments. You can also prefix any Python function with '?' to bring up its documentation."
   ]
  },
  {
   "cell_type": "code",
   "execution_count": 10,
   "metadata": {},
   "outputs": [
    {
     "data": {
      "text/plain": [
       "\u001b[0;31mSignature:\u001b[0m \u001b[0mplt\u001b[0m\u001b[0;34m.\u001b[0m\u001b[0mplot\u001b[0m\u001b[0;34m(\u001b[0m\u001b[0;34m*\u001b[0m\u001b[0margs\u001b[0m\u001b[0;34m,\u001b[0m \u001b[0mscalex\u001b[0m\u001b[0;34m=\u001b[0m\u001b[0;32mTrue\u001b[0m\u001b[0;34m,\u001b[0m \u001b[0mscaley\u001b[0m\u001b[0;34m=\u001b[0m\u001b[0;32mTrue\u001b[0m\u001b[0;34m,\u001b[0m \u001b[0mdata\u001b[0m\u001b[0;34m=\u001b[0m\u001b[0;32mNone\u001b[0m\u001b[0;34m,\u001b[0m \u001b[0;34m**\u001b[0m\u001b[0mkwargs\u001b[0m\u001b[0;34m)\u001b[0m\u001b[0;34m\u001b[0m\u001b[0;34m\u001b[0m\u001b[0m\n",
       "\u001b[0;31mDocstring:\u001b[0m\n",
       "Plot y versus x as lines and/or markers.\n",
       "\n",
       "Call signatures::\n",
       "\n",
       "    plot([x], y, [fmt], *, data=None, **kwargs)\n",
       "    plot([x], y, [fmt], [x2], y2, [fmt2], ..., **kwargs)\n",
       "\n",
       "The coordinates of the points or line nodes are given by *x*, *y*.\n",
       "\n",
       "The optional parameter *fmt* is a convenient way for defining basic\n",
       "formatting like color, marker and linestyle. It's a shortcut string\n",
       "notation described in the *Notes* section below.\n",
       "\n",
       ">>> plot(x, y)        # plot x and y using default line style and color\n",
       ">>> plot(x, y, 'bo')  # plot x and y using blue circle markers\n",
       ">>> plot(y)           # plot y using x as index array 0..N-1\n",
       ">>> plot(y, 'r+')     # ditto, but with red plusses\n",
       "\n",
       "You can use `.Line2D` properties as keyword arguments for more\n",
       "control on the appearance. Line properties and *fmt* can be mixed.\n",
       "The following two calls yield identical results:\n",
       "\n",
       ">>> plot(x, y, 'go--', linewidth=2, markersize=12)\n",
       ">>> plot(x, y, color='green', marker='o', linestyle='dashed',\n",
       "...      linewidth=2, markersize=12)\n",
       "\n",
       "When conflicting with *fmt*, keyword arguments take precedence.\n",
       "\n",
       "\n",
       "**Plotting labelled data**\n",
       "\n",
       "There's a convenient way for plotting objects with labelled data (i.e.\n",
       "data that can be accessed by index ``obj['y']``). Instead of giving\n",
       "the data in *x* and *y*, you can provide the object in the *data*\n",
       "parameter and just give the labels for *x* and *y*::\n",
       "\n",
       ">>> plot('xlabel', 'ylabel', data=obj)\n",
       "\n",
       "All indexable objects are supported. This could e.g. be a `dict`, a\n",
       "`pandas.DataFrame` or a structured numpy array.\n",
       "\n",
       "\n",
       "**Plotting multiple sets of data**\n",
       "\n",
       "There are various ways to plot multiple sets of data.\n",
       "\n",
       "- The most straight forward way is just to call `plot` multiple times.\n",
       "  Example:\n",
       "\n",
       "  >>> plot(x1, y1, 'bo')\n",
       "  >>> plot(x2, y2, 'go')\n",
       "\n",
       "- Alternatively, if your data is already a 2d array, you can pass it\n",
       "  directly to *x*, *y*. A separate data set will be drawn for every\n",
       "  column.\n",
       "\n",
       "  Example: an array ``a`` where the first column represents the *x*\n",
       "  values and the other columns are the *y* columns::\n",
       "\n",
       "  >>> plot(a[0], a[1:])\n",
       "\n",
       "- The third way is to specify multiple sets of *[x]*, *y*, *[fmt]*\n",
       "  groups::\n",
       "\n",
       "  >>> plot(x1, y1, 'g^', x2, y2, 'g-')\n",
       "\n",
       "  In this case, any additional keyword argument applies to all\n",
       "  datasets. Also this syntax cannot be combined with the *data*\n",
       "  parameter.\n",
       "\n",
       "By default, each line is assigned a different style specified by a\n",
       "'style cycle'. The *fmt* and line property parameters are only\n",
       "necessary if you want explicit deviations from these defaults.\n",
       "Alternatively, you can also change the style cycle using\n",
       ":rc:`axes.prop_cycle`.\n",
       "\n",
       "\n",
       "Parameters\n",
       "----------\n",
       "x, y : array-like or scalar\n",
       "    The horizontal / vertical coordinates of the data points.\n",
       "    *x* values are optional and default to ``range(len(y))``.\n",
       "\n",
       "    Commonly, these parameters are 1D arrays.\n",
       "\n",
       "    They can also be scalars, or two-dimensional (in that case, the\n",
       "    columns represent separate data sets).\n",
       "\n",
       "    These arguments cannot be passed as keywords.\n",
       "\n",
       "fmt : str, optional\n",
       "    A format string, e.g. 'ro' for red circles. See the *Notes*\n",
       "    section for a full description of the format strings.\n",
       "\n",
       "    Format strings are just an abbreviation for quickly setting\n",
       "    basic line properties. All of these and more can also be\n",
       "    controlled by keyword arguments.\n",
       "\n",
       "    This argument cannot be passed as keyword.\n",
       "\n",
       "data : indexable object, optional\n",
       "    An object with labelled data. If given, provide the label names to\n",
       "    plot in *x* and *y*.\n",
       "\n",
       "    .. note::\n",
       "        Technically there's a slight ambiguity in calls where the\n",
       "        second label is a valid *fmt*. ``plot('n', 'o', data=obj)``\n",
       "        could be ``plt(x, y)`` or ``plt(y, fmt)``. In such cases,\n",
       "        the former interpretation is chosen, but a warning is issued.\n",
       "        You may suppress the warning by adding an empty format string\n",
       "        ``plot('n', 'o', '', data=obj)``.\n",
       "\n",
       "Returns\n",
       "-------\n",
       "list of `.Line2D`\n",
       "    A list of lines representing the plotted data.\n",
       "\n",
       "Other Parameters\n",
       "----------------\n",
       "scalex, scaley : bool, default: True\n",
       "    These parameters determine if the view limits are adapted to the\n",
       "    data limits. The values are passed on to `autoscale_view`.\n",
       "\n",
       "**kwargs : `.Line2D` properties, optional\n",
       "    *kwargs* are used to specify properties like a line label (for\n",
       "    auto legends), linewidth, antialiasing, marker face color.\n",
       "    Example::\n",
       "\n",
       "    >>> plot([1, 2, 3], [1, 2, 3], 'go-', label='line 1', linewidth=2)\n",
       "    >>> plot([1, 2, 3], [1, 4, 9], 'rs', label='line 2')\n",
       "\n",
       "    If you make multiple lines with one plot call, the kwargs\n",
       "    apply to all those lines.\n",
       "\n",
       "    Here is a list of available `.Line2D` properties:\n",
       "\n",
       "    Properties:\n",
       "    agg_filter: a filter function, which takes a (m, n, 3) float array and a dpi value, and returns a (m, n, 3) array\n",
       "    alpha: float or None\n",
       "    animated: bool\n",
       "    antialiased or aa: bool\n",
       "    clip_box: `.Bbox`\n",
       "    clip_on: bool\n",
       "    clip_path: Patch or (Path, Transform) or None\n",
       "    color or c: color\n",
       "    contains: unknown\n",
       "    dash_capstyle: {'butt', 'round', 'projecting'}\n",
       "    dash_joinstyle: {'miter', 'round', 'bevel'}\n",
       "    dashes: sequence of floats (on/off ink in points) or (None, None)\n",
       "    data: (2, N) array or two 1D arrays\n",
       "    drawstyle or ds: {'default', 'steps', 'steps-pre', 'steps-mid', 'steps-post'}, default: 'default'\n",
       "    figure: `.Figure`\n",
       "    fillstyle: {'full', 'left', 'right', 'bottom', 'top', 'none'}\n",
       "    gid: str\n",
       "    in_layout: bool\n",
       "    label: object\n",
       "    linestyle or ls: {'-', '--', '-.', ':', '', (offset, on-off-seq), ...}\n",
       "    linewidth or lw: float\n",
       "    marker: marker style string, `~.path.Path` or `~.markers.MarkerStyle`\n",
       "    markeredgecolor or mec: color\n",
       "    markeredgewidth or mew: float\n",
       "    markerfacecolor or mfc: color\n",
       "    markerfacecoloralt or mfcalt: color\n",
       "    markersize or ms: float\n",
       "    markevery: None or int or (int, int) or slice or List[int] or float or (float, float) or List[bool]\n",
       "    path_effects: `.AbstractPathEffect`\n",
       "    picker: unknown\n",
       "    pickradius: float\n",
       "    rasterized: bool or None\n",
       "    sketch_params: (scale: float, length: float, randomness: float)\n",
       "    snap: bool or None\n",
       "    solid_capstyle: {'butt', 'round', 'projecting'}\n",
       "    solid_joinstyle: {'miter', 'round', 'bevel'}\n",
       "    transform: `matplotlib.transforms.Transform`\n",
       "    url: str\n",
       "    visible: bool\n",
       "    xdata: 1D array\n",
       "    ydata: 1D array\n",
       "    zorder: float\n",
       "\n",
       "See Also\n",
       "--------\n",
       "scatter : XY scatter plot with markers of varying size and/or color (\n",
       "    sometimes also called bubble chart).\n",
       "\n",
       "Notes\n",
       "-----\n",
       "**Format Strings**\n",
       "\n",
       "A format string consists of a part for color, marker and line::\n",
       "\n",
       "    fmt = '[marker][line][color]'\n",
       "\n",
       "Each of them is optional. If not provided, the value from the style\n",
       "cycle is used. Exception: If ``line`` is given, but no ``marker``,\n",
       "the data will be a line without markers.\n",
       "\n",
       "Other combinations such as ``[color][marker][line]`` are also\n",
       "supported, but note that their parsing may be ambiguous.\n",
       "\n",
       "**Markers**\n",
       "\n",
       "=============    ===============================\n",
       "character        description\n",
       "=============    ===============================\n",
       "``'.'``          point marker\n",
       "``','``          pixel marker\n",
       "``'o'``          circle marker\n",
       "``'v'``          triangle_down marker\n",
       "``'^'``          triangle_up marker\n",
       "``'<'``          triangle_left marker\n",
       "``'>'``          triangle_right marker\n",
       "``'1'``          tri_down marker\n",
       "``'2'``          tri_up marker\n",
       "``'3'``          tri_left marker\n",
       "``'4'``          tri_right marker\n",
       "``'s'``          square marker\n",
       "``'p'``          pentagon marker\n",
       "``'*'``          star marker\n",
       "``'h'``          hexagon1 marker\n",
       "``'H'``          hexagon2 marker\n",
       "``'+'``          plus marker\n",
       "``'x'``          x marker\n",
       "``'D'``          diamond marker\n",
       "``'d'``          thin_diamond marker\n",
       "``'|'``          vline marker\n",
       "``'_'``          hline marker\n",
       "=============    ===============================\n",
       "\n",
       "**Line Styles**\n",
       "\n",
       "=============    ===============================\n",
       "character        description\n",
       "=============    ===============================\n",
       "``'-'``          solid line style\n",
       "``'--'``         dashed line style\n",
       "``'-.'``         dash-dot line style\n",
       "``':'``          dotted line style\n",
       "=============    ===============================\n",
       "\n",
       "Example format strings::\n",
       "\n",
       "    'b'    # blue markers with default shape\n",
       "    'or'   # red circles\n",
       "    '-g'   # green solid line\n",
       "    '--'   # dashed line with default color\n",
       "    '^k:'  # black triangle_up markers connected by a dotted line\n",
       "\n",
       "**Colors**\n",
       "\n",
       "The supported color abbreviations are the single letter codes\n",
       "\n",
       "=============    ===============================\n",
       "character        color\n",
       "=============    ===============================\n",
       "``'b'``          blue\n",
       "``'g'``          green\n",
       "``'r'``          red\n",
       "``'c'``          cyan\n",
       "``'m'``          magenta\n",
       "``'y'``          yellow\n",
       "``'k'``          black\n",
       "``'w'``          white\n",
       "=============    ===============================\n",
       "\n",
       "and the ``'CN'`` colors that index into the default property cycle.\n",
       "\n",
       "If the color is the only part of the format string, you can\n",
       "additionally use any  `matplotlib.colors` spec, e.g. full names\n",
       "(``'green'``) or hex strings (``'#008000'``).\n",
       "\u001b[0;31mFile:\u001b[0m      ~/miniconda3/envs/brainhack/lib/python3.7/site-packages/matplotlib/pyplot.py\n",
       "\u001b[0;31mType:\u001b[0m      function\n"
      ]
     },
     "metadata": {},
     "output_type": "display_data"
    }
   ],
   "source": [
    "?plt.plot"
   ]
  },
  {
   "cell_type": "code",
   "execution_count": null,
   "metadata": {},
   "outputs": [],
   "source": []
  }
 ],
 "metadata": {
  "kernelspec": {
   "name": "python3",
   "display_name": "Python 3.7.8 64-bit ('brainhack': conda)",
   "metadata": {
    "interpreter": {
     "hash": "063cc0f9615c86b4fb5085ce19fe148f184db9d2340803807efad56adecd79ed"
    }
   }
  },
  "language_info": {
   "codemirror_mode": {
    "name": "ipython",
    "version": 3
   },
   "file_extension": ".py",
   "mimetype": "text/x-python",
   "name": "python",
   "nbconvert_exporter": "python",
   "pygments_lexer": "ipython3",
   "version": "3.7.8-final"
  }
 },
 "nbformat": 4,
 "nbformat_minor": 4
}