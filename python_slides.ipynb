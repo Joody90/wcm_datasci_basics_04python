{
 "cells": [
  {
   "cell_type": "markdown",
   "metadata": {
    "slideshow": {
     "slide_type": "slide"
    }
   },
   "source": [
    "<center>\n",
    "    <img src=\"https://imgs.xkcd.com/comics/python.png\">\n",
    "</center>"
   ]
  },
  {
   "cell_type": "markdown",
   "metadata": {
    "slideshow": {
     "slide_type": "slide"
    }
   },
   "source": [
    "<img src=\"https://imgs.xkcd.com/comics/python.png\" width=\"380\" style=\"float:right\">\n",
    "\n",
    " - General purpose programming language\n",
    " - Widely used by data scientists\n",
    " - Often used for scripting\n",
    " - Programming + scripting = interpreted language"
   ]
  },
  {
   "cell_type": "markdown",
   "metadata": {
    "slideshow": {
     "slide_type": "slide"
    }
   },
   "source": [
    "<p style=\"text-align:center; font-size:200%\"><a href=\"https://colab.research.google.com\">colab.research.google.com</a></p>"
   ]
  },
  {
   "cell_type": "markdown",
   "metadata": {
    "slideshow": {
     "slide_type": "subslide"
    }
   },
   "source": [
    " - Command line shell\n",
    " - Interactive python\n",
    " - Integrated development environment (IDE)"
   ]
  },
  {
   "cell_type": "markdown",
   "metadata": {
    "slideshow": {
     "slide_type": "subslide"
    }
   },
   "source": [
    "<img src=\"https://memegenerator.net/img/instances/67791412/not-sure-if-i-am-good-at-programming-or-good-at-googling.jpg\" width=\"500\" style=\"float:right\">\n",
    "\n",
    " - Basic types: int, float, strings\n",
    " - Arrays, tuples, dicts\n",
    " - Importing libraries\n",
    " - Writing a script\n",
    " - Load/save files\n",
    " - Visualizations"
   ]
  },
  {
   "cell_type": "markdown",
   "metadata": {
    "slideshow": {
     "slide_type": "subslide"
    }
   },
   "source": [
    "<center>\n",
    "    <img src=\"http://www.lpycot.appspot.com/img?img_id=aghzfmxweWNvdHIKCxIDQXJ0GNEPDA\">\n",
    "</center>"
   ]
  }
 ],
 "metadata": {
  "celltoolbar": "Slideshow",
  "kernelspec": {
   "display_name": "brainhack",
   "language": "python",
   "name": "brainhack"
  },
  "language_info": {
   "codemirror_mode": {
    "name": "ipython",
    "version": 3
   },
   "file_extension": ".py",
   "mimetype": "text/x-python",
   "name": "python",
   "nbconvert_exporter": "python",
   "pygments_lexer": "ipython3",
   "version": "3.7.8"
  }
 },
 "nbformat": 4,
 "nbformat_minor": 4
}
